{
 "cells": [
  {
   "cell_type": "markdown",
   "metadata": {},
   "source": [
    "#### Python code that (recursively) zips the content of the Jupiter folder you're working on.\n",
    "\n",
    "It can be used to create a zip file of coursera course materials\n",
    "\n",
    "* Create a notebook and run code below\n",
    "\n",
    "* Hit \"File/Open\" menu item to find a .zip file having the same name of the folder (e.g.: \"Logistic Regression with a Neural Network mindset.zip\", \"Planar data classification with one hidden layer.zip\", and so on) \n",
    "\n",
    "* Download the zip file\n",
    "\n",
    "https://www.coursera.org/learn/neural-networks-deep-learning/discussions/all/threads/-dxINIy9EeeLNRKDXdRmQA"
   ]
  },
  {
   "cell_type": "code",
   "execution_count": null,
   "metadata": {
    "collapsed": true
   },
   "outputs": [],
   "source": [
    "import os\n",
    "import zipfile\n",
    "\n",
    "def zipdir(path, ziph, zipfilename, DEBUG = 0):\n",
    "    for root, dirs, files in os.walk(path):\n",
    "        for file in files:\n",
    "            if DEBUG > 0:\n",
    "                print(root + '/' + file)\n",
    "                \n",
    "            if zipfilename == file:\n",
    "                if DEBUG > 0:\n",
    "                    print(\"skip\")\n",
    "                continue \n",
    "                \n",
    "            ziph.write(os.path.join(root, file))\n",
    "\n",
    "def packit():\n",
    "    rootdirname = '.'\n",
    "    zipfilename = os.getcwd().split(os.sep)[-1]+'.zip'\n",
    "    if os.path.isfile(zipfilename):\n",
    "        os.remove(zipfilename)\n",
    "    zipf = zipfile.ZipFile(zipfilename, 'w', zipfile.ZIP_DEFLATED)\n",
    "    zipdir(rootdirname, zipf, zipfilename)\n",
    "    zipf.close()\n",
    "    print(\"Paking done.\")\n",
    "    \n",
    "packit()"
   ]
  },
  {
   "cell_type": "code",
   "execution_count": 5,
   "metadata": {
    "collapsed": false
   },
   "outputs": [
    {
     "name": "stdout",
     "output_type": "stream",
     "text": [
      "[NbConvertApp] Converting notebook RecursaveZip.ipynb to script\n",
      "[NbConvertApp] Writing 1488 bytes to RecursaveZip.py\n"
     ]
    }
   ],
   "source": [
    "#!jupyter nbconvert RecursaveZip.ipynb --to script \n",
    "!jupyter nbconvert RecursaveZip.ipynb --to script "
   ]
  }
 ],
 "metadata": {
  "kernelspec": {
   "display_name": "Python 2",
   "language": "python",
   "name": "python2"
  },
  "language_info": {
   "codemirror_mode": {
    "name": "ipython",
    "version": 2
   },
   "file_extension": ".py",
   "mimetype": "text/x-python",
   "name": "python",
   "nbconvert_exporter": "python",
   "pygments_lexer": "ipython2",
   "version": "2.7.12"
  }
 },
 "nbformat": 4,
 "nbformat_minor": 0
}
