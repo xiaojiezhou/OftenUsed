{
 "cells": [
  {
   "cell_type": "code",
   "execution_count": null,
   "metadata": {
    "collapsed": true
   },
   "outputs": [],
   "source": [
    "# %load \"/nfs/science/users/xiaojiez/Python/Step1-Model-template.py\""
   ]
  },
  {
   "cell_type": "code",
   "execution_count": 1,
   "metadata": {
    "collapsed": false
   },
   "outputs": [
    {
     "name": "stdout",
     "output_type": "stream",
     "text": [
      "[NbConvertApp] Converting notebook Step1-Model-template.ipynb to script\n",
      "[NbConvertApp] Writing 1107 bytes to Step1-Model-template.py\n"
     ]
    }
   ],
   "source": [
    "### Save to a python script\n",
    "# !jupyter nbconvert  Step1-Model-template.ipynb --to script"
   ]
  },
  {
   "cell_type": "code",
   "execution_count": 1,
   "metadata": {
    "collapsed": false
   },
   "outputs": [
    {
     "name": "stdout",
     "output_type": "stream",
     "text": [
      "Useful functions:\n",
      "1. convert2Categ(df, threshold=5): to convert all category variables to dummy columns\n",
      "2. flat2String(arg): to flattening arbitrary levels.\n",
      "3. binary_perform(actual, pred): to print out binary classification performance.\n"
     ]
    }
   ],
   "source": [
    "#%run \"/Users/x644435/Documents/Good2Know/PythonLearn/Useful/UsefulFunc.py\"\n",
    "%run /nfs/science/users/xiaojiez/Python/UsefulPyFunc.py"
   ]
  },
  {
   "cell_type": "markdown",
   "metadata": {},
   "source": [
    "#### Setting up the environment"
   ]
  },
  {
   "cell_type": "code",
   "execution_count": null,
   "metadata": {
    "collapsed": true
   },
   "outputs": [],
   "source": [
    "#Import popular libraries\n",
    "import numpy as np\n",
    "import pandas as pd\n",
    "import matplotlib.pyplot as plt\n",
    "\n",
    "\n",
    "%matplotlib inline\n",
    "\n",
    "### Set up display options\n",
    "pd.set_option('display.max_rows', 1000)\n",
    "pd.set_option('display.max_columns', 500)\n",
    "pd.set_option('display.width', 300) # maximum display width \n",
    "pd.set_option('display.max_colwidth',120)\n",
    "\n",
    "import os\n",
    "\n",
    "print '### set up working path'\n",
    "currpath = \"/nfs/science/users/xiaojiez\"\n",
    "os.chdir(currpath)\n",
    "print 'Current Working Directory:', os.getcwd(), '\\n', 'List of Files:', os.listdir(currpath)\n",
    "# os.remove(path)  # remove a file"
   ]
  },
  {
   "cell_type": "code",
   "execution_count": null,
   "metadata": {
    "collapsed": true
   },
   "outputs": [],
   "source": [
    "%run \"/nfs/science/moo/value/churn/hshd_churn/xjz/Python/Step0-Data.py\""
   ]
  }
 ],
 "metadata": {
  "anaconda-cloud": {},
  "kernelspec": {
   "display_name": "Python 2",
   "language": "python",
   "name": "python2"
  },
  "language_info": {
   "codemirror_mode": {
    "name": "ipython",
    "version": 2
   },
   "file_extension": ".py",
   "mimetype": "text/x-python",
   "name": "python",
   "nbconvert_exporter": "python",
   "pygments_lexer": "ipython2",
   "version": "2.7.12"
  }
 },
 "nbformat": 4,
 "nbformat_minor": 1
}
