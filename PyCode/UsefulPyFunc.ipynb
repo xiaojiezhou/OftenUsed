{
 "cells": [
  {
   "cell_type": "code",
   "execution_count": 43,
   "metadata": {
    "collapsed": false
   },
   "outputs": [
    {
     "name": "stdout",
     "output_type": "stream",
     "text": [
      "[NbConvertApp] Converting notebook UsefulPyFunc.ipynb to script\n",
      "[NbConvertApp] Writing 1679 bytes to UsefulPyFunc.py\n",
      "Useful functions:\n",
      "1. convert2Categ(df, threshold=5): to convert all category variables to dummy columns\n",
      "2. flat2String(arg): to flattening arbitrary levels.\n"
     ]
    }
   ],
   "source": [
    "### Save to a python script\n",
    "#!jupyter nbconvert UsefulPyFunc.ipynb --to script \n",
    "# %run \"/nfs/science/users/xiaojiez/Python/UsefulFunc.py\"\n",
    "\n",
    "import pandas as pd\n",
    "\n",
    "print \"Useful functions:\"\n",
    "print \"1. convert2Categ(df, threshold=5): to convert all category variables to dummy columns\"\n",
    "\n",
    "def convert2Categ(df, threshold=5):\n",
    "    if df.empty:\n",
    "        return df\n",
    "\n",
    "    cat_names = [col for col in df if len(df[col].unique()) <= threshold]\n",
    "    for n in cat_names:\n",
    "        df[n] = df[n].astype('category')\n",
    "\n",
    "    return pd.get_dummies(df, columns=cat_names, drop_first=True)\n",
    "\n",
    "\n",
    "print '2. flat2String(arg): to flattening arbitrary levels.'\n",
    "from itertools import chain\n",
    "def flat2String(arg):\n",
    "    if isinstance(arg, str):\n",
    "        yield arg\n",
    "    else:\n",
    "        for one in arg:\n",
    "            for x in flat2String(one):\n",
    "                 yield x\n",
    "                    "
   ]
  },
  {
   "cell_type": "markdown",
   "metadata": {},
   "source": [
    "#### Function that prints out performance of binary classification"
   ]
  },
  {
   "cell_type": "code",
   "execution_count": null,
   "metadata": {
    "collapsed": false
   },
   "outputs": [],
   "source": [
    "print '3. binary_perform(actual, pred): to print out binary classification performance.'\n",
    "def binary_perform(actual, pred):\n",
    "    from sklearn import metrics\n",
    "    import pandas as pd\n",
    "    print 'Total Accuracy:', round(metrics.accuracy_score(actual, pred) ,3)\n",
    "    C=metrics.confusion_matrix(actual, pred) \n",
    "    C = C / C.astype(np.float).sum(axis=1)\n",
    "    print 'Confusion Matrix:\\n',  numpy.round_(C,3)\n",
    "    print 'AUC ROC:', round(metrics.roc_auc_score(actual, pred),3)\n",
    "    print 'F1:', round(metrics.f1_score(actual, pred),3)\n",
    "    print 'Precision: ', round(metrics.precision_score(actual, pred),3)\n",
    "\n",
    "    print 'Recall (True Negative):' ,round(metrics.recall_score(actual, pred),3)\n",
    "\n",
    "    print metrics.classification_report(actual, pred)"
   ]
  }
 ],
 "metadata": {
  "anaconda-cloud": {},
  "kernelspec": {
   "display_name": "Python 2",
   "language": "python",
   "name": "python2"
  },
  "language_info": {
   "codemirror_mode": {
    "name": "ipython",
    "version": 2
   },
   "file_extension": ".py",
   "mimetype": "text/x-python",
   "name": "python",
   "nbconvert_exporter": "python",
   "pygments_lexer": "ipython2",
   "version": "2.7.12"
  }
 },
 "nbformat": 4,
 "nbformat_minor": 1
}
