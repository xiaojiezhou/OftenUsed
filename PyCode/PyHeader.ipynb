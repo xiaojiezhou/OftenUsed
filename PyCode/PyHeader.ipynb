{
 "cells": [
  {
   "cell_type": "markdown",
   "metadata": {},
   "source": [
    "### Combined python script"
   ]
  },
  {
   "cell_type": "code",
   "execution_count": 3,
   "metadata": {
    "collapsed": true
   },
   "outputs": [],
   "source": [
    "import sys\n",
    "sys.path.append('/Users/x644435/anaconda2/lib/python2.7/site-packages/')\n",
    "import  tensorflow as tf"
   ]
  },
  {
   "cell_type": "code",
   "execution_count": 11,
   "metadata": {
    "collapsed": false
   },
   "outputs": [],
   "source": [
    "### Save to a python script\n",
    "#!jupyter nbconvert --to script PyHeader.ipynb"
   ]
  },
  {
   "cell_type": "code",
   "execution_count": 10,
   "metadata": {
    "collapsed": false
   },
   "outputs": [
    {
     "name": "stdout",
     "output_type": "stream",
     "text": [
      "### set up working path\n",
      "Current Working Directory: /Users/x644435/Documents/Good2Know/PythonLearn/Pandas \n",
      "List of Files: ['.ipynb_checkpoints', '10Minutes2Pandas.ipynb', 'births1880.csv', 'DProcessingCatVar.ipynb', 'PandasExample1.ipynb']\n"
     ]
    }
   ],
   "source": [
    "print '### set up working path'\n",
    "import os\n",
    "from os import chdir, listdir\n",
    "\n",
    "mypath = \"/Users/x644435/Documents/Good2Know/PythonLearn/Pandas\"\n",
    "chdir(mypath)\n",
    "print 'Current Working Directory:', os.getcwd(), '\\n', 'List of Files:', listdir(mypath)\n",
    "# os.remove(path)  # remove a file\n",
    "\n",
    "#Import popular libraries\n",
    "import numpy as np\n",
    "import pandas as pd\n",
    "import matplotlib.pyplot as plt\n",
    "\n",
    "### Set up display options\n",
    "pd.set_option('display.max_rows', 1000)\n",
    "pd.set_option('display.max_columns', 500)\n",
    "pd.set_option('display.width', 300) # maximum display width \n",
    "pd.set_option('display.max_colwidth',120)"
   ]
  },
  {
   "cell_type": "code",
   "execution_count": null,
   "metadata": {
    "collapsed": true
   },
   "outputs": [],
   "source": []
  },
  {
   "cell_type": "code",
   "execution_count": 5,
   "metadata": {
    "collapsed": false
   },
   "outputs": [
    {
     "data": {
      "text/plain": [
       "['',\n",
       " '/Users/x644435/anaconda2/envs/tensorflow/lib/python27.zip',\n",
       " '/Users/x644435/anaconda2/envs/tensorflow/lib/python2.7',\n",
       " '/Users/x644435/anaconda2/envs/tensorflow/lib/python2.7/plat-darwin',\n",
       " '/Users/x644435/anaconda2/envs/tensorflow/lib/python2.7/plat-mac',\n",
       " '/Users/x644435/anaconda2/envs/tensorflow/lib/python2.7/plat-mac/lib-scriptpackages',\n",
       " '/Users/x644435/anaconda2/envs/tensorflow/lib/python2.7/lib-tk',\n",
       " '/Users/x644435/anaconda2/envs/tensorflow/lib/python2.7/lib-old',\n",
       " '/Users/x644435/anaconda2/envs/tensorflow/lib/python2.7/lib-dynload',\n",
       " '/Users/x644435/anaconda2/envs/tensorflow/lib/python2.7/site-packages',\n",
       " '/Users/x644435/anaconda2/envs/tensorflow/lib/python2.7/site-packages/setuptools-25.1.6-py2.7.egg',\n",
       " '/Users/x644435/anaconda2/envs/tensorflow/lib/python2.7/site-packages/IPython/extensions',\n",
       " '/Users/x644435/.ipython',\n",
       " '/Users/x644435/anaconda2/lib/python2.7/site-packages/',\n",
       " '/Users/x644435/anaconda2/lib/python2.7/site-packages/']"
      ]
     },
     "execution_count": 5,
     "metadata": {},
     "output_type": "execute_result"
    }
   ],
   "source": [
    "sys.path"
   ]
  },
  {
   "cell_type": "code",
   "execution_count": 6,
   "metadata": {
    "collapsed": false
   },
   "outputs": [],
   "source": [
    "import pandas as pd"
   ]
  },
  {
   "cell_type": "code",
   "execution_count": null,
   "metadata": {
    "collapsed": true
   },
   "outputs": [],
   "source": []
  },
  {
   "cell_type": "code",
   "execution_count": null,
   "metadata": {
    "collapsed": false
   },
   "outputs": [],
   "source": []
  },
  {
   "cell_type": "markdown",
   "metadata": {},
   "source": [
    "#### Load R data in Python"
   ]
  },
  {
   "cell_type": "code",
   "execution_count": null,
   "metadata": {
    "collapsed": true
   },
   "outputs": [],
   "source": [
    "import rpy2.robjects as robjects\n",
    "import pandas as pd\n",
    "\n",
    "from rpy2.robjects import pandas2ri\n",
    "from rpy2.robjects import r\n",
    "\n",
    "robjects.r['load'](\"Q20152DM.RData\")\n",
    "\n",
    "df = pandas2ri.ri2py(r['Q20152DM'])\n",
    "df =  pd.DataFrame(df)\n"
   ]
  },
  {
   "cell_type": "markdown",
   "metadata": {
    "collapsed": true
   },
   "source": [
    "#### Variable transformation"
   ]
  },
  {
   "cell_type": "code",
   "execution_count": null,
   "metadata": {
    "collapsed": true
   },
   "outputs": [],
   "source": [
    "import numpy as np\n",
    "from sklearn.preprocessing import MinMaxScaler, StandardScaler\n",
    "\n",
    "\n",
    "to_recode = ['TSpend20142','TSpend20143','TSpend20144','TSpend20151']\n",
    "\n",
    "# Select numeric columns only\n",
    "ndf = df.select_dtypes([np.number])\n",
    "ndf.drop('HOUSEHOLD_ID', axis=1)  #drop column\n",
    "\n",
    "# Apply log(x+1) element-wise to a subset of columns\n",
    "X[to_recode] = X[to_recode].applymap(lambda x: np.log(x+1))\n",
    "\n",
    "# Recode X_train columns to 0-1, apply the formular to X_test\n",
    "X_train.is_copy = False\n",
    "scaler = MinMaxScaler(feature_range=(0, 1))\n",
    "X_train[to_recode] = scaler.fit_transform(X_train[to_recode])\n",
    "X_test[to_recode] = scaler.transform(X_test[to_recode])\n"
   ]
  },
  {
   "cell_type": "code",
   "execution_count": null,
   "metadata": {
    "collapsed": true
   },
   "outputs": [],
   "source": []
  },
  {
   "cell_type": "code",
   "execution_count": null,
   "metadata": {
    "collapsed": true
   },
   "outputs": [],
   "source": []
  },
  {
   "cell_type": "code",
   "execution_count": null,
   "metadata": {
    "collapsed": true
   },
   "outputs": [],
   "source": []
  },
  {
   "cell_type": "code",
   "execution_count": null,
   "metadata": {
    "collapsed": true
   },
   "outputs": [],
   "source": []
  },
  {
   "cell_type": "code",
   "execution_count": null,
   "metadata": {
    "collapsed": true
   },
   "outputs": [],
   "source": []
  }
 ],
 "metadata": {
  "kernelspec": {
   "display_name": "Python 2",
   "language": "python",
   "name": "python2"
  },
  "language_info": {
   "codemirror_mode": {
    "name": "ipython",
    "version": 2
   },
   "file_extension": ".py",
   "mimetype": "text/x-python",
   "name": "python",
   "nbconvert_exporter": "python",
   "pygments_lexer": "ipython2",
   "version": "2.7.12"
  }
 },
 "nbformat": 4,
 "nbformat_minor": 0
}
